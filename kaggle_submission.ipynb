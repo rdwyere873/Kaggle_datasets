{
 "cells": [
  {
   "cell_type": "code",
   "execution_count": 146,
   "metadata": {},
   "outputs": [],
   "source": [
    "%matplotlib inline\n",
    "import numpy as np\n",
    "import pandas as pd \n",
    "import matplotlib.pyplot as plt\n",
    "import scipy.stats as stats\n",
    "import sklearn.linear_model as linear_model\n",
    "import seaborn as sns\n",
    "import xgboost as xgb\n",
    "from sklearn.model_selection import KFold\n",
    "from IPython.display import HTML, display\n",
    "from sklearn.manifold import TSNE\n",
    "from sklearn.cluster import KMeans\n",
    "from sklearn.decomposition import PCA\n",
    "from sklearn.preprocessing import StandardScaler\n",
    " \n",
    "\n",
    "pd.options.display.max_rows = 1000\n",
    "pd.options.display.max_columns = 20\n",
    "\n",
    "df = pd.read_csv('train.csv')\n",
    "# test = pd.read_csv('test.csv')\n",
    "\n",
    "quantitative = [f for f in df.columns if df.dtypes[f] != 'object']\n",
    "quantitative.remove('SalePrice')\n",
    "quantitative.remove('Id')\n",
    "qualitative = [f for f in df.columns if df.dtypes[f] == 'object']"
   ]
  },
  {
   "cell_type": "code",
   "execution_count": 147,
   "metadata": {
    "collapsed": true
   },
   "outputs": [],
   "source": [
    "df.drop('Id', axis=1, inplace=True)"
   ]
  },
  {
   "cell_type": "code",
   "execution_count": 143,
   "metadata": {},
   "outputs": [],
   "source": [
    "#add a row of zeros to test set. Problem with read 1 to few rows\n",
    "test = pd.read_csv('test_data.csv')\n",
    "test.loc[1460] = np.zeros(shape=(len(test.columns)))"
   ]
  },
  {
   "cell_type": "code",
   "execution_count": 181,
   "metadata": {},
   "outputs": [],
   "source": [
    "#spli dataset into numerical and categorical features\n",
    "test_quantitative = [f for f in test.columns if test.dtypes[f] != 'object']\n",
    "test_qualitative = [f for f in test.columns if test.dtypes[f] == 'object']"
   ]
  },
  {
   "cell_type": "code",
   "execution_count": 148,
   "metadata": {},
   "outputs": [
    {
     "data": {
      "text/plain": [
       "((1460, 80), (1460, 79))"
      ]
     },
     "execution_count": 148,
     "metadata": {},
     "output_type": "execute_result"
    }
   ],
   "source": [
    "df.shape, test.shape"
   ]
  },
  {
   "cell_type": "code",
   "execution_count": 9,
   "metadata": {
    "collapsed": true
   },
   "outputs": [],
   "source": [
    "def get_scores(prediction,labels):\n",
    "    print('R2 score: {}'.format(R2_score(predictions, labels)))\n",
    "    print('RMSE: {}'.format(npsqrt(mean_squared_error(predictions, labels))))\n",
    "\n",
    "#Show scores for train and validation set\n",
    "def train_test(estimator, x_trn,x_test, y_trn, y_test):\n",
    "    prediction_train = estmator.predict(x_trn)\n",
    "    print(estimator)                                #Printing estimator \n",
    "    get_scores(prediction_train, y_trn)             #Printing train scores\n",
    "    prediction_test = estimator.predict(x_test)\n",
    "    print('Test')                                   #Printing Test scores\n",
    "    get_scores(predictions_test,y_test)"
   ]
  },
  {
   "cell_type": "markdown",
   "metadata": {},
   "source": [
    "# Dealing with null values\n",
    "\n",
    "meikegw 'Filling Up Missing Values'\n"
   ]
  },
  {
   "cell_type": "code",
   "execution_count": 149,
   "metadata": {},
   "outputs": [
    {
     "name": "stderr",
     "output_type": "stream",
     "text": [
      "C:\\Users\\bobbyd\\Anaconda2\\envs\\neural_net\\lib\\site-packages\\ipykernel_launcher.py:20: SettingWithCopyWarning: \n",
      "A value is trying to be set on a copy of a slice from a DataFrame\n",
      "\n",
      "See the caveats in the documentation: http://pandas.pydata.org/pandas-docs/stable/indexing.html#indexing-view-versus-copy\n"
     ]
    }
   ],
   "source": [
    "\n",
    "# Look at Categorical values\n",
    "def cat_exploration(column):\n",
    "    return df[column].value_counts()\n",
    "\n",
    "\n",
    "# Impute Categorical variables\n",
    "def cat_imputer(column, value):\n",
    "    df.loc[df[column].isnull(), column] = value\n",
    "\n",
    "df['LotFrontage'].corr(df['LotArea'])# check correlation of Lot area and Lot frontage\n",
    "sqrtarea = np.sqrt(df['LotArea'])\n",
    "df['SqrtLotArea'] = sqrtarea\n",
    "df['LotFrontage'].corr(df['SqrtLotArea'])\n",
    "\n",
    "\n",
    "import seaborn as sns\n",
    "# sns.pairplot(df[['LotFrontage','SqrtLotArea']].dropna())\n",
    "cond = df['LotFrontage'].isnull()  # define all instances of condos\n",
    "df.LotFrontage[cond] = df.SqrtLotArea[cond] # make nulls equal to square root of lot area\n",
    "del df['SqrtLotArea']\n",
    "\n",
    "# Alley\n",
    "cat_exploration('Alley')\n",
    "cat_imputer('Alley', 'None')\n",
    "\n",
    "# Masonry Veneer Type\n",
    "df[['MasVnrType', 'MasVnrArea']][df['MasVnrType'].isnull()==True]\n",
    "cat_exploration('MasVnrType')\n",
    "cat_imputer('MasVnrType', 'None')\n",
    "cat_imputer('MasVnrArea', 0.0)\n",
    "\n",
    "# Basement\n",
    "basement_col = ['BsmtQual', 'BsmtCond', 'BsmtExposure', 'BsmtFinType1', 'BsmtFinType2', 'BsmtFinSF1', 'BsmtFinSF2']\n",
    "df[basement_col][df['BsmtQual'].isnull() == True]\n",
    "for col in basement_col:\n",
    "    if 'FinSF' not in col:\n",
    "        cat_imputer(col, 'None')#categorical cariables are null where numerical are 0. Therefore there is no basement and NaN is None\n",
    "    else:\n",
    "        cat_imputer(col, 0.0)\n",
    "\n",
    "# Electrical\n",
    "cat_exploration('Electrical')\n",
    "cat_imputer('Electrical', 'SBrkr')        #Impute most frequent value\n",
    "\n",
    "\n",
    "# Fireplace\n",
    "\n",
    "df['Fireplaces'][df['FireplaceQu'].isnull() == True].describe()\n",
    "cat_exploration('FireplaceQu')\n",
    "cat_imputer('FireplaceQu', 'None')\n",
    "# pd.crosstab(df.Fireplaces, df.FireplaceQu)\n",
    "\n",
    "# Garage\n",
    "garage_col = ['GarageType', 'GarageYrBlt', 'GarageFinish', 'GarageQual', 'GarageCond', 'GarageCars', 'GarageArea']\n",
    "df[garage_col][df['GarageType'].isnull() == True]\n",
    "\n",
    "#Some residences have no garage\n",
    "for col in garage_col:\n",
    "    if df[col].dtype == np.object:\n",
    "        cat_imputer(col, 'None')\n",
    "    else:\n",
    "        cat_imputer(col,0)\n",
    "\n",
    "# Pool\n",
    "df['PoolArea'][df['PoolQC'].isnull() == True].describe()\n",
    "cat_imputer('PoolQC', 'None')\n",
    "\n",
    "# Fence\n",
    "cat_imputer('Fence', 'None')\n",
    "\n",
    "# Miscellaneous Features\n",
    "cat_imputer('MiscFeature','None')\n",
    "\n"
   ]
  },
  {
   "cell_type": "code",
   "execution_count": 182,
   "metadata": {},
   "outputs": [
    {
     "name": "stderr",
     "output_type": "stream",
     "text": [
      "C:\\Users\\bobbyd\\Anaconda2\\envs\\neural_net\\lib\\site-packages\\ipykernel_launcher.py:25: SettingWithCopyWarning: \n",
      "A value is trying to be set on a copy of a slice from a DataFrame\n",
      "\n",
      "See the caveats in the documentation: http://pandas.pydata.org/pandas-docs/stable/indexing.html#indexing-view-versus-copy\n"
     ]
    }
   ],
   "source": [
    "# Look at Categorical test values\n",
    "def cat_exploration(column):\n",
    "    return test[column].value_counts()\n",
    "\n",
    "\n",
    "# Impute Categorical variables\n",
    "def cat_imputer(column, value):\n",
    "    test.loc[test[column].isnull(), column] = value\n",
    "    \n",
    "# MSZoning\n",
    "cat_imputer('MSZoning', 'None')\n",
    "\n",
    "# Utilities\n",
    "cat_imputer('Utilities', 'AllPub')\n",
    "\n",
    "test['LotFrontage'].corr(test['LotArea'])# check correlation of Lot area and Lot frontage\n",
    "sqrtarea = np.sqrt(test['LotArea'])\n",
    "test['SqrtLotArea'] = sqrtarea\n",
    "test['LotFrontage'].corr(test['SqrtLotArea'])\n",
    "\n",
    "\n",
    "import seaborn as sns\n",
    "# sns.pairplot(df[['LotFrontage','SqrtLotArea']].dropna())\n",
    "cond = test['LotFrontage'].isnull()  # define all instances of condos\n",
    "test.LotFrontage[cond] = test.SqrtLotArea[cond] # make nulls equal to square root of lot area\n",
    "del test['SqrtLotArea']\n",
    "\n",
    "# Alley\n",
    "cat_exploration('Alley')\n",
    "cat_imputer('Alley', 'None')\n",
    "\n",
    "# Masonry Veneer Type\n",
    "test[['MasVnrType', 'MasVnrArea']][test['MasVnrType'].isnull()==True]\n",
    "cat_exploration('MasVnrType')\n",
    "cat_imputer('MasVnrType', 'None')\n",
    "cat_imputer('MasVnrArea', 0.0)\n",
    "\n",
    "# Basement\n",
    "basement_col = ['BsmtQual', 'BsmtCond', 'BsmtExposure', 'BsmtFinType1', 'BsmtFinType2', 'BsmtFinSF1', 'BsmtFinSF2']\n",
    "test[basement_col][test['BsmtQual'].isnull() == True]\n",
    "for col in basement_col:\n",
    "    if 'FinSF' not in col:\n",
    "        cat_imputer(col, 'None')#categorical cariables are null where numerical are 0. Therefore there is no basement and NaN is None\n",
    "    else:\n",
    "        cat_imputer(col, 0.0)\n",
    "\n",
    "cat_imputer('TotalBsmtSF', 0.0)\n",
    "cat_imputer('BsmtFullBath', 0.0)\n",
    "cat_imputer('BsmtHalfBath', 0.0)\n",
    "cat_imputer('BsmtUnfSF', 0.0)\n",
    "\n",
    "#Exterior\n",
    "cat_imputer('Exterior1st', 'VinylSd')\n",
    "cat_imputer('Exterior2nd', 'VinylSd')\n",
    "\n",
    "    \n",
    "\n",
    "# Electrical\n",
    "cat_exploration('Electrical')\n",
    "cat_imputer('Electrical', 'SBrkr')        #Impute most frequent value\n",
    "\n",
    "# Kitchen\n",
    "cat_imputer('KitchenQual', 'TA')\n",
    "\n",
    "# Functional\n",
    "cat_imputer('Functional', 'Typ')\n",
    "\n",
    "\n",
    "# Fireplace\n",
    "test['Fireplaces'][test['FireplaceQu'].isnull() == True].describe()\n",
    "cat_exploration('FireplaceQu')\n",
    "cat_imputer('FireplaceQu', 'None')\n",
    "# pd.crosstab(df.Fireplaces, df.FireplaceQu)\n",
    "\n",
    "# Garage\n",
    "garage_col = ['GarageType', 'GarageYrBlt', 'GarageFinish', 'GarageQual', 'GarageCond', 'GarageCars', 'GarageArea']\n",
    "test[garage_col][test['GarageType'].isnull() == True]\n",
    "\n",
    "#Some residences have no garage\n",
    "for col in garage_col:\n",
    "    if test[col].dtype == np.object:\n",
    "        cat_imputer(col, 'None')\n",
    "    else:\n",
    "        cat_imputer(col,0)\n",
    "\n",
    "# Pool\n",
    "test['PoolArea'][test['PoolQC'].isnull() == True].describe()\n",
    "cat_imputer('PoolQC', 'None')\n",
    "\n",
    "# Fence\n",
    "cat_imputer('Fence', 'None')\n",
    "\n",
    "# Miscellaneous Features\n",
    "cat_imputer('MiscFeature','None')\n",
    "\n",
    "# Saletype\n",
    "cat_imputer('SaleType', 'Oth')\n",
    "\n"
   ]
  },
  {
   "cell_type": "code",
   "execution_count": 151,
   "metadata": {},
   "outputs": [
    {
     "name": "stdout",
     "output_type": "stream",
     "text": [
      "['MSZoning_E', 'Street_E', 'Alley_E', 'LotShape_E', 'LandContour_E', 'Utilities_E', 'LotConfig_E', 'LandSlope_E', 'Neighborhood_E', 'Condition1_E', 'Condition2_E', 'BldgType_E', 'HouseStyle_E', 'RoofStyle_E', 'RoofMatl_E', 'Exterior1st_E', 'Exterior2nd_E', 'MasVnrType_E', 'ExterQual_E', 'ExterCond_E', 'Foundation_E', 'BsmtQual_E', 'BsmtCond_E', 'BsmtExposure_E', 'BsmtFinType1_E', 'BsmtFinType2_E', 'Heating_E', 'HeatingQC_E', 'CentralAir_E', 'Electrical_E', 'KitchenQual_E', 'Functional_E', 'FireplaceQu_E', 'GarageType_E', 'GarageFinish_E', 'GarageQual_E', 'GarageCond_E', 'PavedDrive_E', 'PoolQC_E', 'Fence_E', 'MiscFeature_E', 'SaleType_E', 'SaleCondition_E']\n"
     ]
    }
   ],
   "source": [
    "def encode(frame, feature):\n",
    "    ordering = pd.DataFrame()\n",
    "    ordering['val'] = frame[feature].unique()\n",
    "    ordering.index = ordering.val\n",
    "    ordering['spmean'] = frame[[feature, 'SalePrice']].groupby(feature).mean()['SalePrice']\n",
    "    ordering = ordering.sort_values('spmean')\n",
    "    ordering['ordering'] = range(1, ordering.shape[0]+1)\n",
    "    ordering = ordering['ordering'].to_dict()\n",
    "    \n",
    "    for cat, o in ordering.items():\n",
    "        frame.loc[frame[feature] == cat, feature+'_E'] = o\n",
    "    \n",
    "qual_encoded = []\n",
    "for q in qualitative:  \n",
    "    encode(df, q)\n",
    "    qual_encoded.append(q+'_E')\n",
    "print(qual_encoded)"
   ]
  },
  {
   "cell_type": "code",
   "execution_count": 226,
   "metadata": {
    "collapsed": true
   },
   "outputs": [],
   "source": [
    "#map ordering from train encoding to test set\n",
    "def map_encoded(col):\n",
    "    ordering = pd.DataFrame()\n",
    "    ordering['val'] = df[col].unique()\n",
    "    ordering.index = ordering.val\n",
    "    ordering['spmean'] = df[[col, 'SalePrice']].groupby(col).mean()['SalePrice']\n",
    "    ordering = ordering.sort_values('spmean')\n",
    "    ordering['ordering'] = range(1, ordering.shape[0]+1)\n",
    "    ordering = ordering['ordering'].to_dict()\n",
    "    test[col+'_E_test']=test[col].map(ordering)\n",
    "\n",
    "\n"
   ]
  },
  {
   "cell_type": "markdown",
   "metadata": {},
   "source": [
    "# Regression"
   ]
  },
  {
   "cell_type": "code",
   "execution_count": 153,
   "metadata": {
    "collapsed": true
   },
   "outputs": [],
   "source": [
    "# transform features according to skew and add new features to dataset\n",
    "def error(actual, predicted):\n",
    "    actual = np.log(actual)\n",
    "    predicted = np.log(predicted)\n",
    "    return np.sqrt(np.sum(np.square(actual-predicted))/len(actual))\n",
    "\n",
    "def log_transform(feature):\n",
    "    df[feature] = np.log1p(df[feature].values)\n",
    "\n",
    "def quadratic(feature):\n",
    "    df[feature+'2'] = df[feature]**2\n",
    "    \n",
    "log_transform('GrLivArea')\n",
    "log_transform('1stFlrSF')\n",
    "log_transform('2ndFlrSF')\n",
    "log_transform('TotalBsmtSF')\n",
    "log_transform('LotArea')\n",
    "log_transform('LotFrontage')\n",
    "log_transform('KitchenAbvGr')\n",
    "log_transform('GarageArea')\n",
    "\n",
    "quadratic('OverallQual')\n",
    "quadratic('YearBuilt')\n",
    "quadratic('YearRemodAdd')\n",
    "quadratic('TotalBsmtSF')\n",
    "quadratic('2ndFlrSF')\n",
    "quadratic('Neighborhood_E')\n",
    "quadratic('RoofMatl_E')\n",
    "quadratic('GrLivArea')\n",
    "\n",
    "qdr = ['OverallQual2', 'YearBuilt2', 'YearRemodAdd2', 'TotalBsmtSF2',\n",
    "        '2ndFlrSF2', 'Neighborhood_E2', 'RoofMatl_E2', 'GrLivArea2']\n",
    "\n",
    "\n",
    "df['HasBasement'] = df['TotalBsmtSF'].apply(lambda x: 1 if x > 0 else 0)\n",
    "df['HasGarage'] = df['GarageArea'].apply(lambda x: 1 if x > 0 else 0)\n",
    "df['Has2ndFloor'] = df['2ndFlrSF'].apply(lambda x: 1 if x > 0 else 0)\n",
    "df['HasMasVnr'] = df['MasVnrArea'].apply(lambda x: 1 if x > 0 else 0)\n",
    "df['HasWoodDeck'] = df['WoodDeckSF'].apply(lambda x: 1 if x > 0 else 0)\n",
    "df['HasPorch'] = df['OpenPorchSF'].apply(lambda x: 1 if x > 0 else 0)\n",
    "df['HasPool'] = df['PoolArea'].apply(lambda x: 1 if x > 0 else 0)\n",
    "df['IsNew'] = df['YearBuilt'].apply(lambda x: 1 if x > 2000 else 0)\n",
    "\n",
    "boolean = ['HasBasement', 'HasGarage', 'Has2ndFloor', 'HasMasVnr', 'HasWoodDeck',\n",
    "            'HasPorch', 'HasPool', 'IsNew']\n",
    "\n"
   ]
  },
  {
   "cell_type": "code",
   "execution_count": 184,
   "metadata": {
    "collapsed": true
   },
   "outputs": [],
   "source": [
    "for col in test_qualitative:\n",
    "    map_encoded(col)"
   ]
  },
  {
   "cell_type": "code",
   "execution_count": 185,
   "metadata": {},
   "outputs": [],
   "source": [
    "\n",
    "def error(actual, predicted):\n",
    "    actual = np.log(actual)\n",
    "    predicted = np.log(predicted)\n",
    "    return np.sqrt(np.sum(np.square(actual-predicted))/len(actual))\n",
    "\n",
    "def log_transform(feature):\n",
    "    test[feature+'_test'] = np.log1p(test[feature].values)\n",
    "\n",
    "def quadratic(feature):\n",
    "    test[feature+'_test_2'] = test[feature]**2\n",
    "    \n",
    "log_transform('GrLivArea')\n",
    "log_transform('1stFlrSF')\n",
    "log_transform('2ndFlrSF')\n",
    "log_transform('TotalBsmtSF')\n",
    "log_transform('LotArea')\n",
    "log_transform('LotFrontage')\n",
    "log_transform('KitchenAbvGr')\n",
    "log_transform('GarageArea')\n",
    "\n",
    "quadratic('OverallQual')\n",
    "quadratic('YearBuilt')\n",
    "quadratic('YearRemodAdd')\n",
    "quadratic('TotalBsmtSF')\n",
    "quadratic('2ndFlrSF')\n",
    "quadratic('Neighborhood_E_test')\n",
    "quadratic('RoofMatl_E_test')\n",
    "quadratic('GrLivArea')\n",
    "\n",
    "qdr_test = ['OverallQual_test_2', 'YearBuilt_test_2', 'YearRemodAdd_test_2', 'TotalBsmtSF_test_2',\n",
    "        '2ndFlrSF_test_2', 'Neighborhood_E_test_test_2', 'RoofMatl_E_test_test_2', 'GrLivArea_test_2']\n",
    "\n",
    "\n",
    "test['HasBasement_test'] = test['TotalBsmtSF'].apply(lambda x: 1 if x > 0 else 0)\n",
    "test['HasGarage_test'] = test['GarageArea'].apply(lambda x: 1 if x > 0 else 0)\n",
    "test['Has2ndFloor_test'] = test['2ndFlrSF'].apply(lambda x: 1 if x > 0 else 0)\n",
    "test['HasMasVnr_test'] = test['MasVnrArea'].apply(lambda x: 1 if x > 0 else 0)\n",
    "test['HasWoodDeck_test'] = test['WoodDeckSF'].apply(lambda x: 1 if x > 0 else 0)\n",
    "test['HasPorch_test'] = test['OpenPorchSF'].apply(lambda x: 1 if x > 0 else 0)\n",
    "test['HasPool_test'] = test['PoolArea'].apply(lambda x: 1 if x > 0 else 0)\n",
    "test['IsNew_test'] = test['YearBuilt'].apply(lambda x: 1 if x > 2000 else 0)\n",
    "\n",
    "boolean_test = ['HasBasement_test', 'HasGarage_test', 'Has2ndFloor_test', 'HasMasVnr_test', 'HasWoodDeck_test',\n",
    "            'HasPorch_test', 'HasPool_test', 'IsNew_test']\n",
    "\n",
    "\n",
    "    "
   ]
  },
  {
   "cell_type": "code",
   "execution_count": 186,
   "metadata": {},
   "outputs": [],
   "source": [
    "#define qual_encoded_test list\n",
    "qual_encoded_test =[]\n",
    "for col in test.columns:\n",
    "    if '_E_' in col and '_2' not in col:\n",
    "        qual_encoded_test.append(col)"
   ]
  },
  {
   "cell_type": "code",
   "execution_count": 187,
   "metadata": {
    "collapsed": true
   },
   "outputs": [],
   "source": [
    "#define list of features for train and test for model prediction\n",
    "features_test = qdr_test + boolean_test + test_quantitative +qual_encoded_test\n",
    "features = quantitative + qual_encoded +boolean + qdr\n"
   ]
  },
  {
   "cell_type": "code",
   "execution_count": 191,
   "metadata": {},
   "outputs": [
    {
     "data": {
      "text/plain": [
       "array([[-0.77547895, -0.34932312, -1.07435888, ...,  0.18791096,\n",
       "        -0.21343526,  0.18971145],\n",
       "       [-0.16682961, -0.44792228, -1.21495087, ..., -2.52656519,\n",
       "        -0.21343526,  0.18971145],\n",
       "       [-0.77547895,  0.84564133,  0.67730698, ...,  0.18791096,\n",
       "        -0.21343526,  0.18971145],\n",
       "       ..., \n",
       "       [-0.77547895, -0.38220628,  0.58178527, ...,  0.18791096,\n",
       "        -0.21343526, -3.22743672],\n",
       "       [-0.77547895,  0.67837415,  0.39102884, ..., -5.24104135,\n",
       "        -0.21343526,  0.18971145],\n",
       "       [ 0.55248325,  0.71179404,  0.48635922, ...,  0.18791096,\n",
       "        -0.21343526,  0.18971145]])"
      ]
     },
     "execution_count": 191,
     "metadata": {},
     "output_type": "execute_result"
    }
   ],
   "source": [
    "#scale feature set\n",
    "X = df[features].fillna(0.).values\n",
    "std = StandardScaler()\n",
    "s = std.fit_transform(X)\n",
    "\n",
    "\n",
    "X_test= test[features_test].fillna(0.).values\n",
    "\n",
    "\n",
    "ss = StandardScaler()\n",
    "ss.fit_transform(X_test)"
   ]
  },
  {
   "cell_type": "code",
   "execution_count": 161,
   "metadata": {},
   "outputs": [
    {
     "data": {
      "text/plain": [
       "LassoLarsCV(copy_X=True, cv=None, eps=2.2204460492503131e-16,\n",
       "      fit_intercept=True, max_iter=1000, max_n_alphas=1000, n_jobs=1,\n",
       "      normalize=True, positive=False, precompute='auto', verbose=False)"
      ]
     },
     "execution_count": 161,
     "metadata": {},
     "output_type": "execute_result"
    }
   ],
   "source": [
    "#LarsCV Lasso Linear Model\n",
    "lasso = linear_model.LassoLarsCV(max_iter=1000)\n",
    "X = df[features].fillna(0.).values\n",
    "y = df['SalePrice']\n",
    "lasso.fit(X, np.log(y))"
   ]
  },
  {
   "cell_type": "code",
   "execution_count": 227,
   "metadata": {},
   "outputs": [
    {
     "data": {
      "text/plain": [
       "0.11305713076847966"
      ]
     },
     "execution_count": 227,
     "metadata": {},
     "output_type": "execute_result"
    }
   ],
   "source": [
    "yhat = np.exp(lasso.predict(X))\n",
    "error(y,yhat)"
   ]
  },
  {
   "cell_type": "code",
   "execution_count": null,
   "metadata": {
    "collapsed": true
   },
   "outputs": [],
   "source": [
    "yhat_test = lasso.predict(X_test)\n",
    "yhat_test"
   ]
  },
  {
   "cell_type": "code",
   "execution_count": 225,
   "metadata": {
    "collapsed": true
   },
   "outputs": [],
   "source": [
    "#create csv file for kaggle submission\n",
    "yhat_df = pd.DataFrame(yhat_test)\n",
    "comp_df= pd.concat([test['Id'], yhat_df], axis =1)\n",
    "comp_df=comp_df.rename(columns = {0:'SalePrice'})\n",
    "comp_df.to_csv('comp_df', index =False)"
   ]
  },
  {
   "cell_type": "code",
   "execution_count": null,
   "metadata": {
    "collapsed": true
   },
   "outputs": [],
   "source": []
  }
 ],
 "metadata": {
  "kernelspec": {
   "display_name": "Python 3",
   "language": "python",
   "name": "python3"
  }
 },
 "nbformat": 4,
 "nbformat_minor": 2
}
